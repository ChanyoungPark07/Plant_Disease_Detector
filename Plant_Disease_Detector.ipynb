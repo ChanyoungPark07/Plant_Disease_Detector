{
 "cells": [
  {
   "cell_type": "markdown",
   "id": "1f942f6b",
   "metadata": {},
   "source": [
    "# Plant Disease Detector"
   ]
  },
  {
   "cell_type": "code",
   "execution_count": 1,
   "id": "9528f29c",
   "metadata": {},
   "outputs": [],
   "source": [
    "# Required libraries\n",
    "import os\n",
    "import zipfile\n",
    "import pandas as pd\n",
    "import numpy as np\n",
    "import matplotlib.pyplot as plt\n",
    "import seaborn as sns\n",
    "\n",
    "# TensorFlow and PyTorch libraries for deep learning\n",
    "import torch\n",
    "from torch.utils.data import Dataset, DataLoader\n",
    "import torchvision.transforms as transforms\n",
    "from torchvision.transforms import ToTensor\n",
    "import torch.nn as nn\n",
    "from torchsummary import summary\n",
    "from torchvision import models\n",
    "from torch.nn.functional import relu\n",
    "import torch.optim as optim\n",
    "\n",
    "# Scikit-learn libraries for model evaluation\n",
    "from sklearn.metrics import accuracy_score, classification_report, confusion_matrix\n",
    "from sklearn.model_selection import train_test_split\n",
    "\n",
    "# OpenCV and PIL for image processing\n",
    "import cv2\n",
    "from PIL import Image\n",
    "from IPython.display import clear_output\n",
    "\n",
    "# Setting default size for plots\n",
    "plt.rcParams[\"figure.figsize\"] = (8, 6)\n",
    "\n",
    "# Determine if CUDA is available and set the device accordingly\n",
    "device = (\"cuda\" if torch.cuda.is_available() else \"cpu\")"
   ]
  },
  {
   "cell_type": "markdown",
   "id": "cefb6735",
   "metadata": {},
   "source": [
    "## Extract Training Images from Files"
   ]
  },
  {
   "cell_type": "code",
   "execution_count": 2,
   "id": "1fa98c85",
   "metadata": {},
   "outputs": [],
   "source": [
    "# # Unzips folder containing plant disease data\n",
    "\n",
    "# with zipfile.ZipFile(\"archive.zip\",\"r\") as zip_ref:\n",
    "#    zip_ref.extractall(\"data/raw\")"
   ]
  },
  {
   "cell_type": "code",
   "execution_count": 3,
   "id": "fc9f0572",
   "metadata": {},
   "outputs": [],
   "source": [
    "# # Extracts information from each file and puts them into a dataframe\n",
    "\n",
    "# lst = os.listdir('./data/raw/archive/New Plant Diseases Dataset(Augmented)/New Plant Diseases Dataset(Augmented)/\\\n",
    "# train')\n",
    "# lst.sort()\n",
    "# df = pd.DataFrame(columns=['Image path', 'Type'])\n",
    "# iterations = 0\n",
    "\n",
    "# for item in lst:\n",
    "#     path = './data/raw/archive/New Plant Diseases Dataset(Augmented)/New Plant Diseases Dataset(Augmented)/train/'\n",
    "#     folder_path = os.path.join(path, item)\n",
    "#     files = os.listdir(folder_path)\n",
    "#     image_files = [file for file in files if file.lower().endswith('.jpg')]\n",
    "\n",
    "#     for image_file in image_files:\n",
    "#         image_path = os.path.join(folder_path, image_file)\n",
    "#         df.loc[len(df)] = [image_path, item]\n",
    "#         iterations += 1\n",
    "        \n",
    "#         if iterations % 10000 == 0:\n",
    "#             print (str(iterations) + ' iterations...')"
   ]
  },
  {
   "cell_type": "markdown",
   "id": "ab86db52",
   "metadata": {},
   "source": [
    "## Clean Dataframe"
   ]
  },
  {
   "cell_type": "code",
   "execution_count": 4,
   "id": "9ad271ed",
   "metadata": {},
   "outputs": [],
   "source": [
    "# # Assign New Labels\n",
    "\n",
    "# lst2 = []\n",
    "# dct = {}\n",
    "# iteration = 0\n",
    "# for i in lst:\n",
    "#     name = i.split('___')[1]\n",
    "#     if name not in lst2:\n",
    "#         lst2.append(name)\n",
    "#         dct[i] = iteration\n",
    "#         iteration += 1\n",
    "#     else:\n",
    "#         num = lst2.index(name)\n",
    "#         dct[i] = num\n",
    "\n",
    "# def func1(name):\n",
    "#     return dct[name]\n",
    "# df['Label'] = df['Type'].apply(func1)"
   ]
  },
  {
   "cell_type": "code",
   "execution_count": 5,
   "id": "ddca24d3",
   "metadata": {},
   "outputs": [],
   "source": [
    "# # Creating Reduced Labels\n",
    "\n",
    "# dct_reduced = dct.copy()\n",
    "# for i in list(dct_reduced.keys()):\n",
    "#     if 'spot' in i.lower():\n",
    "#         if (i != 'Grape___Leaf_blight_(Isariopsis_Leaf_Spot)') & \\\n",
    "#             (i != 'Tomato___Spider_mites Two-spotted_spider_mite'):\n",
    "#             dct_reduced[i] = 5\n",
    "#     if 'blight' in i.lower():\n",
    "#         dct_reduced[i] = 7\n",
    "    \n",
    "# for i in list(dct_reduced.keys()):\n",
    "#     if dct_reduced[i] != 0:\n",
    "#         if (dct_reduced[i] - 1) not in set(dct_reduced.values()):\n",
    "#             while (dct_reduced[i] - 1) not in set(dct_reduced.values()):\n",
    "#                 dct_reduced[i] = dct_reduced[i] - 1"
   ]
  },
  {
   "cell_type": "code",
   "execution_count": 6,
   "id": "3a722af3",
   "metadata": {},
   "outputs": [],
   "source": [
    "# # Assigning Reduced Labels\n",
    "\n",
    "# def func1(name):\n",
    "#     return dct_reduced[name]\n",
    "# df['New Label'] = df['Type'].apply(func1)"
   ]
  },
  {
   "cell_type": "code",
   "execution_count": 7,
   "id": "19f0608b",
   "metadata": {},
   "outputs": [],
   "source": [
    "# # Save dataframe and csv\n",
    "\n",
    "# df.to_csv('plant_disease.csv')"
   ]
  },
  {
   "cell_type": "markdown",
   "id": "ac3ada04",
   "metadata": {},
   "source": [
    "## Loading the Data"
   ]
  },
  {
   "cell_type": "code",
   "execution_count": 8,
   "id": "f7eb14c6",
   "metadata": {
    "scrolled": true
   },
   "outputs": [],
   "source": [
    "# Load and preprocess data\n",
    "data1 = pd.read_csv('./plant_disease_valid.csv', index_col=[0]).drop(columns = 'Label')\n",
    "data2 = pd.read_csv('./plant_disease_test.csv', index_col=[0])\n",
    "data2 = data2.rename(columns={'Label': 'New Label'})\n",
    "data3 = pd.read_csv('./plant_disease_train.csv', index_col=[0]).drop(columns = 'Label')\n",
    "\n",
    "# Concatenate all data into a single DataFrame\n",
    "total_data = pd.concat([data1, data2, data3], ignore_index=True)\n",
    "\n",
    "# Splitting data into train, test, and validation sets\n",
    "train_data, temp_test_data = train_test_split(total_data, test_size=0.4, random_state = 42, \n",
    "                                              stratify=total_data['New Label'])\n",
    "test_data, validation_data = train_test_split(temp_test_data, test_size=0.5, random_state = 42, \n",
    "                                              stratify=temp_test_data['New Label'])"
   ]
  },
  {
   "cell_type": "code",
   "execution_count": 9,
   "id": "4d1c9614",
   "metadata": {},
   "outputs": [
    {
     "data": {
      "text/html": [
       "<div>\n",
       "<style scoped>\n",
       "    .dataframe tbody tr th:only-of-type {\n",
       "        vertical-align: middle;\n",
       "    }\n",
       "\n",
       "    .dataframe tbody tr th {\n",
       "        vertical-align: top;\n",
       "    }\n",
       "\n",
       "    .dataframe thead th {\n",
       "        text-align: right;\n",
       "    }\n",
       "</style>\n",
       "<table border=\"1\" class=\"dataframe\">\n",
       "  <thead>\n",
       "    <tr style=\"text-align: right;\">\n",
       "      <th></th>\n",
       "      <th>Image path</th>\n",
       "      <th>Type</th>\n",
       "      <th>New Label</th>\n",
       "    </tr>\n",
       "  </thead>\n",
       "  <tbody>\n",
       "    <tr>\n",
       "      <th>0</th>\n",
       "      <td>./data/raw/archive/New Plant Diseases Dataset(...</td>\n",
       "      <td>Apple___Apple_scab</td>\n",
       "      <td>0</td>\n",
       "    </tr>\n",
       "    <tr>\n",
       "      <th>1</th>\n",
       "      <td>./data/raw/archive/New Plant Diseases Dataset(...</td>\n",
       "      <td>Apple___Apple_scab</td>\n",
       "      <td>0</td>\n",
       "    </tr>\n",
       "    <tr>\n",
       "      <th>2</th>\n",
       "      <td>./data/raw/archive/New Plant Diseases Dataset(...</td>\n",
       "      <td>Apple___Apple_scab</td>\n",
       "      <td>0</td>\n",
       "    </tr>\n",
       "    <tr>\n",
       "      <th>3</th>\n",
       "      <td>./data/raw/archive/New Plant Diseases Dataset(...</td>\n",
       "      <td>Apple___Apple_scab</td>\n",
       "      <td>0</td>\n",
       "    </tr>\n",
       "    <tr>\n",
       "      <th>4</th>\n",
       "      <td>./data/raw/archive/New Plant Diseases Dataset(...</td>\n",
       "      <td>Apple___Apple_scab</td>\n",
       "      <td>0</td>\n",
       "    </tr>\n",
       "    <tr>\n",
       "      <th>...</th>\n",
       "      <td>...</td>\n",
       "      <td>...</td>\n",
       "      <td>...</td>\n",
       "    </tr>\n",
       "    <tr>\n",
       "      <th>89500</th>\n",
       "      <td>./data/raw/archive/New Plant Diseases Dataset(...</td>\n",
       "      <td>Tomato___healthy</td>\n",
       "      <td>3</td>\n",
       "    </tr>\n",
       "    <tr>\n",
       "      <th>89501</th>\n",
       "      <td>./data/raw/archive/New Plant Diseases Dataset(...</td>\n",
       "      <td>Tomato___healthy</td>\n",
       "      <td>3</td>\n",
       "    </tr>\n",
       "    <tr>\n",
       "      <th>89502</th>\n",
       "      <td>./data/raw/archive/New Plant Diseases Dataset(...</td>\n",
       "      <td>Tomato___healthy</td>\n",
       "      <td>3</td>\n",
       "    </tr>\n",
       "    <tr>\n",
       "      <th>89503</th>\n",
       "      <td>./data/raw/archive/New Plant Diseases Dataset(...</td>\n",
       "      <td>Tomato___healthy</td>\n",
       "      <td>3</td>\n",
       "    </tr>\n",
       "    <tr>\n",
       "      <th>89504</th>\n",
       "      <td>./data/raw/archive/New Plant Diseases Dataset(...</td>\n",
       "      <td>Tomato___healthy</td>\n",
       "      <td>3</td>\n",
       "    </tr>\n",
       "  </tbody>\n",
       "</table>\n",
       "<p>89505 rows × 3 columns</p>\n",
       "</div>"
      ],
      "text/plain": [
       "                                              Image path                Type  \\\n",
       "0      ./data/raw/archive/New Plant Diseases Dataset(...  Apple___Apple_scab   \n",
       "1      ./data/raw/archive/New Plant Diseases Dataset(...  Apple___Apple_scab   \n",
       "2      ./data/raw/archive/New Plant Diseases Dataset(...  Apple___Apple_scab   \n",
       "3      ./data/raw/archive/New Plant Diseases Dataset(...  Apple___Apple_scab   \n",
       "4      ./data/raw/archive/New Plant Diseases Dataset(...  Apple___Apple_scab   \n",
       "...                                                  ...                 ...   \n",
       "89500  ./data/raw/archive/New Plant Diseases Dataset(...    Tomato___healthy   \n",
       "89501  ./data/raw/archive/New Plant Diseases Dataset(...    Tomato___healthy   \n",
       "89502  ./data/raw/archive/New Plant Diseases Dataset(...    Tomato___healthy   \n",
       "89503  ./data/raw/archive/New Plant Diseases Dataset(...    Tomato___healthy   \n",
       "89504  ./data/raw/archive/New Plant Diseases Dataset(...    Tomato___healthy   \n",
       "\n",
       "       New Label  \n",
       "0              0  \n",
       "1              0  \n",
       "2              0  \n",
       "3              0  \n",
       "4              0  \n",
       "...          ...  \n",
       "89500          3  \n",
       "89501          3  \n",
       "89502          3  \n",
       "89503          3  \n",
       "89504          3  \n",
       "\n",
       "[89505 rows x 3 columns]"
      ]
     },
     "execution_count": 9,
     "metadata": {},
     "output_type": "execute_result"
    }
   ],
   "source": [
    "total_data"
   ]
  },
  {
   "cell_type": "code",
   "execution_count": 10,
   "id": "2392674b",
   "metadata": {},
   "outputs": [
    {
     "data": {
      "image/png": "[encoded data removed]",
      "text/plain": [
       "<Figure size 576x432 with 1 Axes>"
      ]
     },
     "metadata": {
      "needs_background": "light"
     },
     "output_type": "display_data"
    }
   ],
   "source": [
    "# Plotting bar graph of the counts of individual labels\n",
    "total_data.groupby('New Label').count().get(['Type']).plot(kind='barh');"
   ]
  },
  {
   "cell_type": "markdown",
   "id": "de518420",
   "metadata": {},
   "source": [
    "## Create a Dataset and Dataloader"
   ]
  },
  {
   "cell_type": "code",
   "execution_count": 11,
   "id": "dba82776",
   "metadata": {},
   "outputs": [],
   "source": [
    "# Define a custom dataset class\n",
    "\n",
    "class CustomDataset(Dataset):\n",
    "    def __init__(self, dataframe, transform=None):\n",
    "        self.dataframe = dataframe\n",
    "        self.transform = transform\n",
    "\n",
    "    def __len__(self):\n",
    "        return len(self.dataframe)\n",
    "\n",
    "    def __getitem__(self, idx):\n",
    "        image_path = self.dataframe.iloc[idx]['Image path']\n",
    "        label = self.dataframe.iloc[idx]['New Label']\n",
    "        original_image = cv2.imread(image_path, cv2.IMREAD_GRAYSCALE)\n",
    "        original_image = original_image.astype(np.float32) / 255.0\n",
    "        \n",
    "        if self.transform:\n",
    "            transformed_image = self.transform(original_image)\n",
    "        else:\n",
    "            transformed_image = ToTensor()(original_image)\n",
    "\n",
    "        return transformed_image, label"
   ]
  },
  {
   "cell_type": "code",
   "execution_count": 12,
   "id": "ba9de3bd",
   "metadata": {},
   "outputs": [],
   "source": [
    "# Initialize datasets for train, validation, and test\n",
    "\n",
    "dataset_train = CustomDataset(dataframe=train_data, transform=ToTensor())\n",
    "dataset_validation = CustomDataset(dataframe=validation_data, transform=ToTensor())\n",
    "dataset_test = CustomDataset(dataframe=test_data, transform=ToTensor())"
   ]
  },
  {
   "cell_type": "code",
   "execution_count": 13,
   "id": "7eb04d6b",
   "metadata": {},
   "outputs": [],
   "source": [
    "# Initialize data loaders for batching\n",
    "\n",
    "batch_size = 64\n",
    "train_data_loader = DataLoader(dataset=dataset_train, batch_size=batch_size, shuffle=True, \n",
    "                               num_workers=4, pin_memory=True)\n",
    "validation_data_loader = DataLoader(dataset=dataset_validation, batch_size=batch_size, shuffle=True,\n",
    "                                    num_workers=4, pin_memory=True)\n",
    "test_data_loader = DataLoader(dataset=dataset_test, batch_size=batch_size, shuffle=True, \n",
    "                                    num_workers=4, pin_memory=True)"
   ]
  },
  {
   "cell_type": "code",
   "execution_count": 14,
   "id": "ce7e2da0",
   "metadata": {},
   "outputs": [],
   "source": [
    "# Function to display images\n",
    "\n",
    "def show_images(images, labels):\n",
    "    num_images = len(images)\n",
    "    fig, axes = plt.subplots(1, num_images, figsize=(12, 4))\n",
    "\n",
    "    for i in range(num_images):\n",
    "        image = images[i].squeeze().numpy()  # Squeeze to remove channel dimension for grayscale\n",
    "        label = labels[i].item()\n",
    "\n",
    "        axes[i].imshow(image, cmap='gray')\n",
    "        axes[i].set_title(f\"Label: {label}\")\n",
    "        axes[i].axis('off')\n",
    "\n",
    "    plt.show()"
   ]
  },
  {
   "cell_type": "code",
   "execution_count": 15,
   "id": "86774da2",
   "metadata": {},
   "outputs": [
    {
     "name": "stdout",
     "output_type": "stream",
     "text": [
      "torch.Size([1, 256, 256])\n"
     ]
    }
   ],
   "source": [
    "# Check the shape of batch images\n",
    "\n",
    "for batch_images, batch_labels in train_data_loader:\n",
    "    print(batch_images[0].shape)\n",
    "    break  # Display only the first batch"
   ]
  },
  {
   "cell_type": "markdown",
   "id": "f169c7c0",
   "metadata": {},
   "source": [
    "## Neural Network"
   ]
  },
  {
   "cell_type": "code",
   "execution_count": 16,
   "id": "69caf4c7",
   "metadata": {},
   "outputs": [],
   "source": [
    "# Neural network architecture\n",
    "\n",
    "class NeuralNet(nn.Module):\n",
    "    def __init__(self, n_labels):\n",
    "        super().__init__()\n",
    "\n",
    "        # Layer definitions\n",
    "        \n",
    "        self.conv1 = nn.Conv2d(1, 8, kernel_size=3, padding=1)\n",
    "        self.relu1 = nn.ReLU(inplace=True)\n",
    "\n",
    "        self.conv2 = nn.Conv2d(8, 16, kernel_size=2, padding=1)\n",
    "        self.relu2 = nn.ReLU(inplace=True)\n",
    "        self.pool1 = nn.MaxPool2d(kernel_size=2, stride=2)\n",
    "\n",
    "        self.conv3 = nn.Conv2d(16, 32, kernel_size=2, padding=1)\n",
    "        self.relu3 = nn.ReLU(inplace=True)\n",
    "        self.pool2 = nn.MaxPool2d(kernel_size=2, stride=2)\n",
    "        \n",
    "        self.conv4 = nn.Conv2d(32, 64, kernel_size=2, padding=1)\n",
    "        self.relu4 = nn.ReLU(inplace=True)\n",
    "        self.pool3 = nn.MaxPool2d(kernel_size=2, stride=2)\n",
    "        \n",
    "        self.conv5 = nn.Conv2d(64, 64, kernel_size=2, padding=1)\n",
    "        self.relu5 = nn.ReLU(inplace=True)\n",
    "        self.pool4 = nn.MaxPool2d(kernel_size=2, stride=2)\n",
    "\n",
    "        self.flatten = nn.Flatten()\n",
    "\n",
    "        self.fc1 = nn.Linear(4096 * 4, 1024)\n",
    "        self.relu6 = nn.ReLU(inplace=True)\n",
    "        self.dropout = nn.Dropout(p=0.5)\n",
    "\n",
    "        self.fc2 = nn.Linear(1024, n_labels)\n",
    "\n",
    "    def forward(self, x):\n",
    "        x = self.pool1(self.relu1(self.conv1(x)))\n",
    "        x = self.pool2(self.relu2(self.conv2(x)))\n",
    "        x = self.pool3(self.relu3(self.conv3(x)))\n",
    "        x = self.pool4(self.relu4(self.conv4(x)))\n",
    "        x = self.flatten(x)\n",
    "        x = self.dropout(self.relu5(self.fc1(x)))\n",
    "        x = self.fc2(x)\n",
    "        \n",
    "        return x"
   ]
  },
  {
   "cell_type": "code",
   "execution_count": null,
   "id": "4f673e11",
   "metadata": {},
   "outputs": [
    {
     "data": {
      "image/png": "[encoded data removed]",
      "text/plain": [
       "<Figure size 720x432 with 1 Axes>"
      ]
     },
     "metadata": {
      "needs_background": "light"
     },
     "output_type": "display_data"
    },
    {
     "name": "stdout",
     "output_type": "stream",
     "text": [
      "Epoch 11, Training Loss: 0.1851753125765494, Validation Loss: 0.4054362533081855\n"
     ]
    }
   ],
   "source": [
    "# TRAINING LOOP WITH EARLY STOPPING\n",
    "\n",
    "# Model setup\n",
    "n_labels = 15\n",
    "model = NeuralNet(n_labels).to(device)\n",
    "model.float()\n",
    "\n",
    "# Loss function and optimizer\n",
    "criterion = nn.CrossEntropyLoss()\n",
    "optimizer = torch.optim.Adam(model.parameters(), lr=0.001)\n",
    "\n",
    "# Early stopping setup\n",
    "patience = 5\n",
    "best_val_loss = float('inf')\n",
    "train_loss_values, val_loss_values = [], []\n",
    "epochs_without_improvement = 0\n",
    "\n",
    "# Training loop with early stopping\n",
    "epoch = 0\n",
    "while True:\n",
    "    \n",
    "    # Training phase\n",
    "    model.train()\n",
    "    total_train_loss = 0.0\n",
    "    for inputs, labels in train_data_loader:\n",
    "        inputs, labels = inputs.to(device, non_blocking=True), labels.to(device, non_blocking=True)\n",
    "        optimizer.zero_grad()\n",
    "        outputs = model(inputs)\n",
    "        loss = criterion(outputs, labels)\n",
    "        loss.backward()\n",
    "        optimizer.step()\n",
    "        total_train_loss += loss.item()\n",
    "    train_loss_values.append(total_train_loss / len(train_data_loader))\n",
    "    \n",
    "    # Validation phase\n",
    "    model.eval()\n",
    "    total_val_loss = 0.0\n",
    "    with torch.no_grad():\n",
    "        for val_inputs, val_labels in validation_data_loader:\n",
    "            val_inputs, val_labels = val_inputs.to(device, non_blocking=True), val_labels.to(device,\n",
    "                                                                                             non_blocking=True)\n",
    "            val_outputs = model(val_inputs)\n",
    "            val_loss = criterion(val_outputs, val_labels)\n",
    "            total_val_loss += val_loss.item()\n",
    "    total_val_loss /= len(validation_data_loader)\n",
    "    val_loss_values.append(total_val_loss)\n",
    "\n",
    "    # Clear previous output and plot the training and validation loss\n",
    "    clear_output(wait=True)\n",
    "    plt.figure(figsize=(10, 6))\n",
    "    plt.plot(train_loss_values, marker='o', linestyle='-', color='b', label='Train Loss')\n",
    "    plt.plot(val_loss_values, marker='o', linestyle='-', color='r', label='Val Loss')\n",
    "    plt.title('Train vs Validation Loss')\n",
    "    plt.xlabel('Epoch')\n",
    "    plt.ylabel('Loss')\n",
    "    plt.legend()\n",
    "    plt.grid(True, which=\"both\", ls=\"-\")\n",
    "    plt.xticks(range(epoch + 1))\n",
    "    plt.show()\n",
    "\n",
    "    print(f\"Epoch {epoch+1}, Training Loss: {train_loss_values[-1]}, Validation Loss: {val_loss_values[-1]}\")\n",
    "    \n",
    "    # Check for improvement and save best model state\n",
    "    if total_val_loss < best_val_loss:\n",
    "        best_val_loss = total_val_loss\n",
    "        best_epoch = epoch\n",
    "        best_model_state_dict = model.state_dict()\n",
    "        print(\"Stored the best model's state dictionary in a variable.\")\n",
    "        epochs_without_improvement = 0\n",
    "        print(f\"Saved Best Model at Epoch {epoch+1}\")\n",
    "    else:\n",
    "        epochs_without_improvement += 1\n",
    "        if epochs_without_improvement >= patience:\n",
    "            print(f\"Early stopping triggered at epoch {epoch+1}.\\\n",
    "                  No improvement in validation loss for {patience} consecutive epochs.\")\n",
    "            break\n",
    "    \n",
    "    epoch += 1\n",
    "\n",
    "print(\"Training complete\")"
   ]
  },
  {
   "cell_type": "code",
   "execution_count": null,
   "id": "9ce2451b",
   "metadata": {},
   "outputs": [],
   "source": [
    "# Save the model\n",
    "\n",
    "torch.save(model.state_dict(), 'best_model.pth')"
   ]
  },
  {
   "cell_type": "markdown",
   "id": "611dfeca",
   "metadata": {},
   "source": [
    "## Testing"
   ]
  },
  {
   "cell_type": "code",
   "execution_count": null,
   "id": "577d8b9d",
   "metadata": {
    "scrolled": false
   },
   "outputs": [],
   "source": [
    "# Bar graph of the counts of individual labels\n",
    "\n",
    "test_data.groupby('New Label').count().get(['Type']).plot(kind='barh');"
   ]
  },
  {
   "cell_type": "code",
   "execution_count": null,
   "id": "f535fb9e",
   "metadata": {},
   "outputs": [],
   "source": [
    "# # Reload the Best Saved Model\n",
    "\n",
    "# model_save_path = './best_model.pth'\n",
    "# state_dict = torch.load(model_save_path)\n",
    "# model = NeuralNet(15).to(device)\n",
    "# model.float()\n",
    "# model.load_state_dict(state_dict)"
   ]
  },
  {
   "cell_type": "code",
   "execution_count": null,
   "id": "61b2fa8d",
   "metadata": {
    "scrolled": false
   },
   "outputs": [],
   "source": [
    "model = model.to(device)\n",
    "model.eval()\n",
    "\n",
    "all_preds = []\n",
    "all_labels = []\n",
    "\n",
    "# Evaluation on test data\n",
    "with torch.no_grad():\n",
    "    for inputs, labels in test_data_loader:\n",
    "        inputs, labels = inputs.to(device), labels.to(device)\n",
    "\n",
    "        outputs = model(inputs)\n",
    "        _, preds = torch.max(outputs, 1)\n",
    "\n",
    "        all_preds.extend(preds.cpu().numpy())\n",
    "        all_labels.extend(labels.cpu().numpy())\n",
    "\n",
    "# Compute and display accuracy\n",
    "accuracy = accuracy_score(all_labels, all_preds)\n",
    "print(f\"Accuracy: {accuracy * 100:.2f}%\")\n",
    "\n",
    "# Generate detailed classification report\n",
    "print(classification_report(all_labels, all_preds))"
   ]
  },
  {
   "cell_type": "code",
   "execution_count": null,
   "id": "dbadec36",
   "metadata": {},
   "outputs": [],
   "source": [
    "# Sample true labels and predicted labels\n",
    "all_labels = np.array(all_labels)\n",
    "all_preds = np.array(all_preds)\n",
    "\n",
    "class_names = ['Label 0', 'Label 1', 'Label 2', 'Label 3', 'Label 4', 'Label 5', 'Label 6',\n",
    "               'Label 7', 'Label 8', 'Label 9', 'Label 10', 'Label 11', 'Label 12', 'Label 13', 'Label 14']\n",
    "\n",
    "# Compute and display confusion matrix\n",
    "cm = confusion_matrix(all_labels, all_preds, labels=np.arange(len(class_names)))\n",
    "\n",
    "# Plotting\n",
    "plt.figure(figsize=(12, 10))\n",
    "sns.heatmap(cm, annot=True, fmt='d', cmap='Blues', xticklabels=class_names, yticklabels=class_names)\n",
    "plt.title('Confusion Matrix')\n",
    "plt.xlabel('Predicted Labels')\n",
    "plt.ylabel('True Labels')\n",
    "plt.show()"
   ]
  }
 ],
 "metadata": {
  "kernelspec": {
   "display_name": "Python 3 (ipykernel)",
   "language": "python",
   "name": "python3"
  },
  "language_info": {
   "codemirror_mode": {
    "name": "ipython",
    "version": 3
   },
   "file_extension": ".py",
   "mimetype": "text/x-python",
   "name": "python",
   "nbconvert_exporter": "python",
   "pygments_lexer": "ipython3",
   "version": "3.9.5"
  }
 },
 "nbformat": 4,
 "nbformat_minor": 5
}
